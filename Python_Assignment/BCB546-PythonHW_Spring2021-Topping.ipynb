{
 "cells": [
  {
   "cell_type": "markdown",
   "metadata": {},
   "source": [
    "# Python Assignment Spring 2021\n",
    "## by: Nick Topping"
   ]
  },
  {
   "cell_type": "markdown",
   "metadata": {},
   "source": [
    "Install biopython if you haven't already"
   ]
  },
  {
   "cell_type": "code",
   "execution_count": 1,
   "metadata": {
    "scrolled": false
   },
   "outputs": [
    {
     "name": "stdout",
     "output_type": "stream",
     "text": [
      "Requirement already satisfied: biopython in /opt/anaconda3/lib/python3.8/site-packages (1.78)\n",
      "Requirement already satisfied: numpy in /opt/anaconda3/lib/python3.8/site-packages (from biopython) (1.19.2)\n",
      "Note: you may need to restart the kernel to use updated packages.\n"
     ]
    }
   ],
   "source": [
    "pip install biopython #installs the package 'biopython' needed for this analysis"
   ]
  },
  {
   "cell_type": "code",
   "execution_count": 2,
   "metadata": {},
   "outputs": [],
   "source": [
    "import Bio #imports the package\n",
    "from Bio import SeqIO\n",
    "from Bio import Seq\n",
    "from Bio.Data import CodonTable\n",
    "from Bio.SeqUtils.ProtParam import ProteinAnalysis\n",
    "from Bio.SeqUtils import GC\n",
    "import pandas as pd\n",
    "import numpy as np\n",
    "import matplotlib.pyplot as plt"
   ]
  },
  {
   "cell_type": "markdown",
   "metadata": {},
   "source": [
    "If biopython is not installed, use the command \"$ conda install biopython\" in your terminal window or using the pip command above"
   ]
  },
  {
   "cell_type": "markdown",
   "metadata": {},
   "source": [
    "## Function 1: Gets the sequences from bears_cytb.fasta and document Dr. X's code"
   ]
  },
  {
   "cell_type": "markdown",
   "metadata": {},
   "source": [
    "I documented Dr. X's function below"
   ]
  },
  {
   "cell_type": "code",
   "execution_count": 3,
   "metadata": {},
   "outputs": [],
   "source": [
    "def get_sequences_from_file(fasta_fn): #defines a new function called \"get_sequences_from_file\" from our fasta file that contains multiple sequences\n",
    "    sequence_data_dict = {} #creates an empty dictionary\n",
    "    for record in SeqIO.parse(fasta_fn, \"fasta\"): #This function identifies sequences within our fasta file for every record\n",
    "        description = record.description.split() #creates a new variable \"description\" and splits the entries\n",
    "        species_name = description[1] + \" \" + description[2] #creates the species name from the file\n",
    "        sequence_data_dict[species_name] = record.seq #assigns the correct sequence to the correct species name\n",
    "    return(sequence_data_dict) #returns the dictionary"
   ]
  },
  {
   "cell_type": "markdown",
   "metadata": {},
   "source": [
    "## Function 2: Write a function from Dr. X's provided pseudocode to translate nucleotides into amino acids (with documentation)"
   ]
  },
  {
   "cell_type": "markdown",
   "metadata": {},
   "source": [
    "Check to see what the provided function does"
   ]
  },
  {
   "cell_type": "code",
   "execution_count": 4,
   "metadata": {},
   "outputs": [
    {
     "name": "stdout",
     "output_type": "stream",
     "text": [
      "Table 2 Vertebrate Mitochondrial, SGC1\n",
      "\n",
      "  |  T      |  C      |  A      |  G      |\n",
      "--+---------+---------+---------+---------+--\n",
      "T | TTT F   | TCT S   | TAT Y   | TGT C   | T\n",
      "T | TTC F   | TCC S   | TAC Y   | TGC C   | C\n",
      "T | TTA L   | TCA S   | TAA Stop| TGA W   | A\n",
      "T | TTG L   | TCG S   | TAG Stop| TGG W   | G\n",
      "--+---------+---------+---------+---------+--\n",
      "C | CTT L   | CCT P   | CAT H   | CGT R   | T\n",
      "C | CTC L   | CCC P   | CAC H   | CGC R   | C\n",
      "C | CTA L   | CCA P   | CAA Q   | CGA R   | A\n",
      "C | CTG L   | CCG P   | CAG Q   | CGG R   | G\n",
      "--+---------+---------+---------+---------+--\n",
      "A | ATT I(s)| ACT T   | AAT N   | AGT S   | T\n",
      "A | ATC I(s)| ACC T   | AAC N   | AGC S   | C\n",
      "A | ATA M(s)| ACA T   | AAA K   | AGA Stop| A\n",
      "A | ATG M(s)| ACG T   | AAG K   | AGG Stop| G\n",
      "--+---------+---------+---------+---------+--\n",
      "G | GTT V   | GCT A   | GAT D   | GGT G   | T\n",
      "G | GTC V   | GCC A   | GAC D   | GGC G   | C\n",
      "G | GTA V   | GCA A   | GAA E   | GGA G   | A\n",
      "G | GTG V(s)| GCG A   | GAG E   | GGG G   | G\n",
      "--+---------+---------+---------+---------+--\n"
     ]
    }
   ],
   "source": [
    "mito_table = CodonTable.unambiguous_dna_by_name[\"Vertebrate Mitochondrial\"] #creates a new table of known vertebrate mitochondrial codons derived from a DNA sequence\n",
    "print(mito_table) #prints the table to see"
   ]
  },
  {
   "cell_type": "code",
   "execution_count": 5,
   "metadata": {},
   "outputs": [],
   "source": [
    "def translate_function(string_nucleotides): #defines a new function to translate the nucleotides\n",
    "    mito_table = CodonTable.unambiguous_dna_by_name[\"Vertebrate Mitochondrial\"] # imports in a codon table of vertebrate mitochodnrial DNA\n",
    "    aa_seq_strings = \"\" #creates a new variable to store the amino acids sequences in\n",
    "    for i in range(0, len(string_nucleotides), 3):\n",
    "        codon = string_nucleotides[i]+ string_nucleotides[i+1]+string_nucleotides[i+2] #identifies a codon as a set of 3 nucleotides \n",
    "        if codon == \"TAA\" or codon == \"TAG\" or codon == \"AGA\" or codon == \"AGG\": # identifies a stop codon\n",
    "            break #will stop the function right before the stop codon\n",
    "            #if we don't break the function, the amino acid sequence will contain more AA's than actually exist in the sequence\n",
    "        else: #will continue the function \n",
    "            aa_seq_strings += mito_table.forward_table[codon] #translates each codon into an amino acid\n",
    "    return(aa_seq_strings) #returns the completed amino acid sequence"
   ]
  },
  {
   "cell_type": "markdown",
   "metadata": {},
   "source": [
    "Did it work?"
   ]
  },
  {
   "cell_type": "code",
   "execution_count": 6,
   "metadata": {},
   "outputs": [
    {
     "data": {
      "text/plain": [
       "'DRYSSIS'"
      ]
     },
     "execution_count": 6,
     "metadata": {},
     "output_type": "execute_result"
    }
   ],
   "source": [
    "dna_to_aa_sequence_example = \"GATCGCTACTCTAGTATCAGT\" #created a new variable with a short DNA sequence\n",
    "translate_function(dna_to_aa_sequence_example) #example from Function 2"
   ]
  },
  {
   "cell_type": "markdown",
   "metadata": {},
   "source": [
    "## Function 3: Write an alternative function to translate nucleotide sequences to amino acids"
   ]
  },
  {
   "cell_type": "code",
   "execution_count": 7,
   "metadata": {},
   "outputs": [],
   "source": [
    "def translate_function_alternative(string_nucleotides): #creates a new alternative function that translates a nucleotide sequence into amino acids\n",
    "    mito_table = CodonTable.unambiguous_dna_by_name[\"Vertebrate Mitochondrial\"] #uses the \"Vertebrate Mitochondrial\" codon table to translate the nucleotide sequence\n",
    "    aa_seq_string = str(Seq.translate(string_nucleotides, mito_table)) [:-1] #this creates the AA sequence. the \"[:-1]\" part of the function specifies to drop the last amino acid sequence, which would be the stop codon\n",
    "    return(aa_seq_string) #returns the new AA sequence"
   ]
  },
  {
   "cell_type": "markdown",
   "metadata": {},
   "source": [
    "Did it work?"
   ]
  },
  {
   "cell_type": "code",
   "execution_count": 8,
   "metadata": {},
   "outputs": [
    {
     "data": {
      "text/plain": [
       "'DRYSSI'"
      ]
     },
     "execution_count": 8,
     "metadata": {},
     "output_type": "execute_result"
    }
   ],
   "source": [
    "dna_to_aa_sequence_example = \"GATCGCTACTCTAGTATCAGT\" #same variable I created for the last test\n",
    "translate_function_alternative(dna_to_aa_sequence_example) #example from Function 3"
   ]
  },
  {
   "cell_type": "markdown",
   "metadata": {},
   "source": [
    "## Function 4: Write a function that calculates the molecular weight of each amino acid sequence"
   ]
  },
  {
   "cell_type": "code",
   "execution_count": 9,
   "metadata": {},
   "outputs": [],
   "source": [
    "from Bio.SeqUtils.ProtParam import ProteinAnalysis #use this to load in the ProteinAnalysis function from ProtParam in BioPython\n",
    "def aa_molecular_weight(aa_seq): #define function for computing the molecular weight of an amino acid sequence\n",
    "    analysed_aa = ProteinAnalysis(aa_seq) #uses the ProteinAnalysis function to calculate the molecular weight of the sequence\n",
    "    return (analysed_aa.molecular_weight()) #returns the molecular weight of the sequence"
   ]
  },
  {
   "cell_type": "markdown",
   "metadata": {},
   "source": [
    "Did it work?"
   ]
  },
  {
   "cell_type": "code",
   "execution_count": 10,
   "metadata": {},
   "outputs": [
    {
     "data": {
      "text/plain": [
       "855.7956"
      ]
     },
     "execution_count": 10,
     "metadata": {},
     "output_type": "execute_result"
    }
   ],
   "source": [
    "aa_sequence_example = \"TURTLES\" #new example sequence, each letter is an amino acid\n",
    "#note: the sequence should be in upper case\n",
    "aa_molecular_weight(aa_sequence_example) #function 4 with example sequence"
   ]
  },
  {
   "cell_type": "markdown",
   "metadata": {},
   "source": [
    "# Main"
   ]
  },
  {
   "cell_type": "code",
   "execution_count": 11,
   "metadata": {},
   "outputs": [],
   "source": [
    "cytb_seqs = get_sequences_from_file(\"bears_cytb.fasta\") #pulls the sequences from the fasta file and puts them in a new list calles \"cytb_seqs\"\n",
    "bears_df = pd.read_csv(\"bears_mass.csv\") #creates a new data frame for body mass data of each bear species\n",
    "species_list = list(bears_df.species) #creates a new list composed of each bear species in the data set pulled from the 'species' column"
   ]
  },
  {
   "cell_type": "markdown",
   "metadata": {},
   "source": [
    "## Function 5: Write a function that calculates the GC content"
   ]
  },
  {
   "cell_type": "code",
   "execution_count": 12,
   "metadata": {},
   "outputs": [],
   "source": [
    "#I found this function on a website with documentation about the biopython package https://biopython.org/docs/1.75/api/Bio.SeqUtils.html\n",
    "def compute_gc_content(nucleotides): #defines a new function where GC content is read from a nucleotide sequence\n",
    "    gc_content = GC(nucleotides) #testin the function using the example DNA sequence I made up earlier\n",
    "#this gives the GC content in a percentage of the total DNA sequence\n",
    "    return(gc_content) #returns GC content"
   ]
  },
  {
   "cell_type": "markdown",
   "metadata": {},
   "source": [
    "## Function 6: Add two new columns with the molecular weight data and the GC content data"
   ]
  },
  {
   "cell_type": "code",
   "execution_count": 13,
   "metadata": {},
   "outputs": [
    {
     "name": "stdout",
     "output_type": "stream",
     "text": [
      "                  species     mass molecular_weight GC_content\n",
      "0          Ursus spelaeus  550.800              NaN        NaN\n",
      "1            Ursus arctos  203.500              NaN        NaN\n",
      "2        Ursus thibetanus   99.714              NaN        NaN\n",
      "3        Melursus ursinus  100.030              NaN        NaN\n",
      "4        Ursus americanus  110.560              NaN        NaN\n",
      "5     Helarctos malayanus   47.020              NaN        NaN\n",
      "6  Ailuropoda melanoleuca  118.200              NaN        NaN\n",
      "7      Tremarctos ornatus  140.700              NaN        NaN\n",
      "8         Ursus maritimus  425.100              NaN        NaN\n"
     ]
    }
   ],
   "source": [
    "bears_df['molecular_weight'] = 'NaN' #creates a new column with the header \"molecular_weight\"\n",
    "bears_df['GC_content'] = 'NaN' #creates a new column with the header \"GC_content\"\n",
    "print(bears_df) #prints the data frame with the two new columns to the right of the original data\n",
    "#all values are set to 'NaN' indicating that they are empty cells (to be filled later)"
   ]
  },
  {
   "cell_type": "markdown",
   "metadata": {},
   "source": [
    "## Function 7: Write a for loop that translates each sequence and also gets molecular weight and computes the GC content"
   ]
  },
  {
   "cell_type": "code",
   "execution_count": 14,
   "metadata": {},
   "outputs": [
    {
     "name": "stdout",
     "output_type": "stream",
     "text": [
      "                  species     mass molecular_weight GC_content\n",
      "0          Ursus spelaeus  550.800          42458.8    43.7719\n",
      "1            Ursus arctos  203.500          42414.7    43.7719\n",
      "2        Ursus thibetanus   99.714          42306.7     45.614\n",
      "3        Melursus ursinus  100.030            42552    45.1754\n",
      "4        Ursus americanus  110.560          42427.7    43.9474\n",
      "5     Helarctos malayanus   47.020          42560.9    44.2982\n",
      "6  Ailuropoda melanoleuca  118.200          42702.2    40.7895\n",
      "7      Tremarctos ornatus  140.700          42384.8     44.386\n",
      "8         Ursus maritimus  425.100          42454.8    44.2982\n"
     ]
    }
   ],
   "source": [
    "row = 0 #initializes the variable row to the first row in the data frame\n",
    "for key, value in cytb_seqs.items():\n",
    "    aa_seq = translate_function_alternative(value) #creates a variable aa_seq that becomes the amino acid sequence for each ursid species respectively\n",
    "    #or you can use the original translate_function\n",
    "    computed_molecular_weight = aa_molecular_weight(aa_seq) #computes the molecular weights of the amino acid sequences of each ursid species\n",
    "    bears_df.loc[row, \"molecular_weight\"] = computed_molecular_weight #adds the computed molecular weight values into the column named 'molecular_weight'\n",
    "    computed_gc_content = GC(value) #computes the percentage of GC bases in the DNA sequences of each ursid species\n",
    "    bears_df.loc[row, \"GC_content\"] = computed_gc_content #adds the computed GC content percentage into the column named 'GC_content'\n",
    "    row = row + 1 #designates the function to move forward one row each time\n",
    "print(bears_df) #prints out the data frame to see with the computed values"
   ]
  },
  {
   "cell_type": "markdown",
   "metadata": {},
   "source": [
    "## Function 8: Plot a bar chart of the species weights with species on the x axis and mass on the y axis"
   ]
  },
  {
   "cell_type": "code",
   "execution_count": 15,
   "metadata": {},
   "outputs": [
    {
     "data": {
      "text/plain": [
       "<AxesSubplot:title={'center':'Mass of the 8 different ursid species'}, xlabel='species'>"
      ]
     },
     "execution_count": 15,
     "metadata": {},
     "output_type": "execute_result"
    },
    {
     "data": {
      "image/png": "[encoded data removed]",
      "text/plain": [
       "<Figure size 432x288 with 1 Axes>"
      ]
     },
     "metadata": {
      "needs_background": "light"
     },
     "output_type": "display_data"
    }
   ],
   "source": [
    "bears_df.plot(kind='bar', x='species', y='mass', color='blue', title='Mass of the 8 different ursid species') #using the .plot function, this creates a figure from the provided data frame with specified parameters for x and y, color, and title"
   ]
  },
  {
   "cell_type": "markdown",
   "metadata": {},
   "source": [
    "### What is the largest bear species?"
   ]
  },
  {
   "cell_type": "markdown",
   "metadata": {},
   "source": [
    "The largest bear species by mass is ursus spelaeus (based on this data set)"
   ]
  },
  {
   "cell_type": "markdown",
   "metadata": {},
   "source": [
    "### What else is interesting about this species?"
   ]
  },
  {
   "cell_type": "markdown",
   "metadata": {},
   "source": [
    "This bear is commonly known as the cave bear and went extinct by 24,000 years ago. Based on skull anatomy, the bears were likely mainly or fully vegetarian. Most fossils were found in caves which is where the bear gets its name, but this also means that these bears likely died during hibernation. Climatic cooling resulting in lower vegetation likely contributed largely to this species demise. From Pacher and Stuart, 2008."
   ]
  },
  {
   "cell_type": "markdown",
   "metadata": {},
   "source": [
    "## Function 9: Plot the GC content (x axis) vs. molecular weight (y axis)"
   ]
  },
  {
   "cell_type": "code",
   "execution_count": 16,
   "metadata": {},
   "outputs": [
    {
     "data": {
      "text/plain": [
       "<AxesSubplot:title={'center':'GC content vs. molecular weight of DNA sequences in 8 ursid species'}, xlabel='GC_content', ylabel='molecular_weight'>"
      ]
     },
     "execution_count": 16,
     "metadata": {},
     "output_type": "execute_result"
    },
    {
     "data": {
      "image/png": "[encoded data removed]",
      "text/plain": [
       "<Figure size 432x288 with 1 Axes>"
      ]
     },
     "metadata": {
      "needs_background": "light"
     },
     "output_type": "display_data"
    }
   ],
   "source": [
    "bears_df.plot(x = 'GC_content', y = 'molecular_weight', kind ='scatter', title ='GC content vs. molecular weight of DNA sequences in 8 ursid species') #creates a new scatterplot of the GC content plotted against each species molecular weight\n"
   ]
  },
  {
   "cell_type": "markdown",
   "metadata": {},
   "source": [
    "## Function 10: Save the new data frame to a file called \"bears_mass_cytb.csv\""
   ]
  },
  {
   "cell_type": "code",
   "execution_count": 17,
   "metadata": {},
   "outputs": [],
   "source": [
    "bears_df.to_csv(\"bears_mass_cytb.csv\") #creates a new csv file and puts it into the folder this project is in"
   ]
  },
  {
   "cell_type": "markdown",
   "metadata": {},
   "source": [
    "### Function 11: Bonus"
   ]
  },
  {
   "cell_type": "markdown",
   "metadata": {},
   "source": [
    "Finding the correlation between molecular weight and GC content and plotting the line of best fit of the GC content against molecular weight"
   ]
  },
  {
   "cell_type": "code",
   "execution_count": 18,
   "metadata": {},
   "outputs": [
    {
     "data": {
      "text/plain": [
       "species              object\n",
       "mass                float64\n",
       "molecular_weight     object\n",
       "GC_content           object\n",
       "dtype: object"
      ]
     },
     "execution_count": 18,
     "metadata": {},
     "output_type": "execute_result"
    }
   ],
   "source": [
    "bears_df.dtypes #shows that the molecular weight and GC content variables are objects, they need to be numeric, found from this website https://thispointer.com/how-to-get-check-data-types-of-dataframe-columns-in-python-pandas/"
   ]
  },
  {
   "cell_type": "code",
   "execution_count": 19,
   "metadata": {},
   "outputs": [
    {
     "data": {
      "text/plain": [
       "species              object\n",
       "mass                float64\n",
       "molecular_weight    float64\n",
       "GC_content          float64\n",
       "dtype: object"
      ]
     },
     "execution_count": 19,
     "metadata": {},
     "output_type": "execute_result"
    }
   ],
   "source": [
    "#since the data types need to be converted, we use this function below that I learned about from this website https://www.datasciencemadesimple.com/convert-character-to-numeric-pandas-python-string-to-integer-2/\n",
    "bears_df['molecular_weight']=pd.to_numeric(bears_df.molecular_weight) #converts the molecular weight column into numeric values\n",
    "bears_df['GC_content']=pd.to_numeric(bears_df.GC_content) #converts the GC content column into numeric values\n",
    "bears_df.dtypes #shows what the data type is for each column"
   ]
  },
  {
   "cell_type": "code",
   "execution_count": 20,
   "metadata": {},
   "outputs": [
    {
     "name": "stdout",
     "output_type": "stream",
     "text": [
      "-0.7185360511641113\n"
     ]
    }
   ],
   "source": [
    "y = bears_df['molecular_weight'] #designates y as a variable containing the column 'molecular_weight'\n",
    "x = bears_df['GC_content'] #designates x as a variable containing the column 'GC_content'\n",
    "correlation = y.corr(x) #computes the correlation between y and x\n",
    "print(correlation) #shows the calculated correlation as an r^2 value"
   ]
  },
  {
   "cell_type": "code",
   "execution_count": 23,
   "metadata": {},
   "outputs": [
    {
     "data": {
      "text/plain": [
       "Text(0.5, 1.0, 'Correlation')"
      ]
     },
     "execution_count": 23,
     "metadata": {},
     "output_type": "execute_result"
    },
    {
     "data": {
      "image/png": "[encoded data removed]",
      "text/plain": [
       "<Figure size 432x288 with 1 Axes>"
      ]
     },
     "metadata": {
      "needs_background": "light"
     },
     "output_type": "display_data"
    }
   ],
   "source": [
    "plt.scatter(x, y) #creates a new scatterplot from designated variables\n",
    "plt.plot(np.unique(x), np. poly1d(np.polyfit(x, y, 1)) #fits the correlation to a new line in the figure\n",
    "(np.unique(x)),color='red') #designates the color of the line of best fit as red\n",
    "plt.xlabel('GC content') #designates the x axis label as 'GC content'\n",
    "plt.ylabel('molecular weight') #designates the y axis label as 'molecular weight'\n",
    "plt.title('Correlation') #designates the title as 'Correlation'\n",
    "#I found how to plot the line of best fit from this website https://www.geeksforgeeks.org/plotting-correlation-matrix-using-python/"
   ]
  },
  {
   "cell_type": "markdown",
   "metadata": {},
   "source": [
    "Please contact me at topping@iastate.edu if you have any questions regarding the code, or if there happens to be an error"
   ]
  },
  {
   "cell_type": "code",
   "execution_count": null,
   "metadata": {},
   "outputs": [],
   "source": []
  }
 ],
 "metadata": {
  "kernelspec": {
   "display_name": "Python 3",
   "language": "python",
   "name": "python3"
  },
  "language_info": {
   "codemirror_mode": {
    "name": "ipython",
    "version": 3
   },
   "file_extension": ".py",
   "mimetype": "text/x-python",
   "name": "python",
   "nbconvert_exporter": "python",
   "pygments_lexer": "ipython3",
   "version": "3.8.5"
  }
 },
 "nbformat": 4,
 "nbformat_minor": 4
}
