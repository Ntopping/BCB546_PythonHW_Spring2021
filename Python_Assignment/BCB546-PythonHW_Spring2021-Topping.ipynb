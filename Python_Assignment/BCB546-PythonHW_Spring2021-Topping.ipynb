{
 "cells": [
  {
   "cell_type": "markdown",
   "metadata": {},
   "source": [
    "# Python Assignment Spring 2021\n",
    "## Nick Topping"
   ]
  },
  {
   "cell_type": "markdown",
   "metadata": {},
   "source": [
    "Install biopython if you haven't already"
   ]
  },
  {
   "cell_type": "code",
   "execution_count": 1,
   "metadata": {
    "scrolled": false
   },
   "outputs": [
    {
     "name": "stdout",
     "output_type": "stream",
     "text": [
      "Requirement already satisfied: biopython in /opt/anaconda3/lib/python3.8/site-packages (1.78)\n",
      "Requirement already satisfied: numpy in /opt/anaconda3/lib/python3.8/site-packages (from biopython) (1.19.2)\n",
      "Note: you may need to restart the kernel to use updated packages.\n"
     ]
    }
   ],
   "source": [
    "pip install biopython"
   ]
  },
  {
   "cell_type": "code",
   "execution_count": 16,
   "metadata": {},
   "outputs": [
    {
     "name": "stdout",
     "output_type": "stream",
     "text": [
      "hello world\n"
     ]
    }
   ],
   "source": [
    "print('hello world')"
   ]
  },
  {
   "cell_type": "code",
   "execution_count": 73,
   "metadata": {},
   "outputs": [],
   "source": [
    "import Bio #imports the package\n",
    "from Bio import SeqIO\n",
    "from Bio import Seq\n",
    "from Bio.Data import CodonTable\n",
    "from Bio.SeqUtils.ProtParam import ProteinAnalysis\n",
    "from Bio.SeqUtils import GC\n",
    "import pandas as pd\n",
    "import numpy as np\n",
    "import matplotlib.pyplot as plt"
   ]
  },
  {
   "cell_type": "markdown",
   "metadata": {},
   "source": [
    "If biopython is not installed, use the command \"$ conda install biopython\" in your terminal window or \""
   ]
  },
  {
   "cell_type": "markdown",
   "metadata": {},
   "source": [
    "## Function 1: Gets the sequences from bears_cytb.fasta and document Dr. X's code"
   ]
  },
  {
   "cell_type": "markdown",
   "metadata": {},
   "source": [
    "I documented Dr. X's function below"
   ]
  },
  {
   "cell_type": "code",
   "execution_count": 3,
   "metadata": {},
   "outputs": [],
   "source": [
    "def get_sequences_from_file(fasta_fn): #defines a new function called \"get_sequences_from_file\" from our fasta file that contains multiple sequences\n",
    "    sequence_data_dict = {} #creates an empty dictionary\n",
    "    for record in SeqIO.parse(fasta_fn, \"fasta\"): #This function identifies sequences within our fasta file for every record\n",
    "        description = record.description.split() #creates a new variable \"description\" and splits the entries\n",
    "        species_name = description[1] + \" \" + description[2] #creates the species name from the file\n",
    "        sequence_data_dict[species_name] = record.seq #assigns the correct sequence to the correct species name\n",
    "    return(sequence_data_dict) #returns the dictionary"
   ]
  },
  {
   "cell_type": "markdown",
   "metadata": {},
   "source": [
    "## Function 2: Write a function from Dr. X's provided pseudocode to translate nucleotides into amino acids (with documentation)"
   ]
  },
  {
   "cell_type": "markdown",
   "metadata": {},
   "source": [
    "Check to see what the provided function does"
   ]
  },
  {
   "cell_type": "code",
   "execution_count": 4,
   "metadata": {},
   "outputs": [
    {
     "name": "stdout",
     "output_type": "stream",
     "text": [
      "Table 2 Vertebrate Mitochondrial, SGC1\n",
      "\n",
      "  |  T      |  C      |  A      |  G      |\n",
      "--+---------+---------+---------+---------+--\n",
      "T | TTT F   | TCT S   | TAT Y   | TGT C   | T\n",
      "T | TTC F   | TCC S   | TAC Y   | TGC C   | C\n",
      "T | TTA L   | TCA S   | TAA Stop| TGA W   | A\n",
      "T | TTG L   | TCG S   | TAG Stop| TGG W   | G\n",
      "--+---------+---------+---------+---------+--\n",
      "C | CTT L   | CCT P   | CAT H   | CGT R   | T\n",
      "C | CTC L   | CCC P   | CAC H   | CGC R   | C\n",
      "C | CTA L   | CCA P   | CAA Q   | CGA R   | A\n",
      "C | CTG L   | CCG P   | CAG Q   | CGG R   | G\n",
      "--+---------+---------+---------+---------+--\n",
      "A | ATT I(s)| ACT T   | AAT N   | AGT S   | T\n",
      "A | ATC I(s)| ACC T   | AAC N   | AGC S   | C\n",
      "A | ATA M(s)| ACA T   | AAA K   | AGA Stop| A\n",
      "A | ATG M(s)| ACG T   | AAG K   | AGG Stop| G\n",
      "--+---------+---------+---------+---------+--\n",
      "G | GTT V   | GCT A   | GAT D   | GGT G   | T\n",
      "G | GTC V   | GCC A   | GAC D   | GGC G   | C\n",
      "G | GTA V   | GCA A   | GAA E   | GGA G   | A\n",
      "G | GTG V(s)| GCG A   | GAG E   | GGG G   | G\n",
      "--+---------+---------+---------+---------+--\n"
     ]
    }
   ],
   "source": [
    "mito_table = CodonTable.unambiguous_dna_by_name[\"Vertebrate Mitochondrial\"]\n",
    "print(mito_table)"
   ]
  },
  {
   "cell_type": "code",
   "execution_count": 5,
   "metadata": {},
   "outputs": [],
   "source": [
    "def translate_function(string_nucleotides): #defines a new function to translate the nucleotides\n",
    "    mito_table = CodonTable.unambiguous_dna_by_name[\"Vertebrate Mitochondrial\"] # imports in a codon table of vertebrate mitochodnrial DNA\n",
    "    aa_seq_strings = [] #creates a new variable to store the amino acids sequences in\n",
    "    for i in range(0, len(string_nucleotides), 3):\n",
    "        codon = string_nucleotides[i:i+3] #identifies a codon as a set of 3 nucleotides \n",
    "        if codon == \"TAA\" or codon == \"TAG\" or codon == \"AGA\" or codon == \"AGG\": # identifies a stop codon\n",
    "            break #will stop the function right before the stop codon\n",
    "        else: #will continue the function \n",
    "            aa_seq_strings += mito_table.forward_table[codon] #translates each codon into an amino acid\n",
    "    return(aa_seq_strings) #returns the completed amino acid sequence"
   ]
  },
  {
   "cell_type": "markdown",
   "metadata": {},
   "source": [
    "# Function 3: Write an alternative function to translate nucleotide sequences to amino acids"
   ]
  },
  {
   "cell_type": "code",
   "execution_count": 45,
   "metadata": {},
   "outputs": [],
   "source": [
    "def translate_function_alternative(string_nucleotides):\n",
    "    mito_table = CodonTable.unambiguous_dna_by_name[\"Vertebrate Mitochondrial\"]\n",
    "    aa_seq_string = str(Seq.translate(string_nucleotides, mito_table))[:-1]\n",
    "    return(aa_seq_string)"
   ]
  },
  {
   "cell_type": "markdown",
   "metadata": {},
   "source": [
    "Did it work?"
   ]
  },
  {
   "cell_type": "code",
   "execution_count": 46,
   "metadata": {},
   "outputs": [
    {
     "data": {
      "text/plain": [
       "'DRYSSI'"
      ]
     },
     "execution_count": 46,
     "metadata": {},
     "output_type": "execute_result"
    }
   ],
   "source": [
    "dna_to_aa_sequence_example = \"GATCGCTACTCTAGTATCAGT\" #create a new variable with a short DNA sequence\n",
    "translate_function_alternative(dna_to_aa_sequence_example) #example from Function 2"
   ]
  },
  {
   "cell_type": "markdown",
   "metadata": {},
   "source": [
    "# Function 4: Write a function that calculates the molecular weight of each amino acid sequence"
   ]
  },
  {
   "cell_type": "code",
   "execution_count": 42,
   "metadata": {},
   "outputs": [],
   "source": [
    "from Bio.SeqUtils.ProtParam import ProteinAnalysis #use this to load in the ProteinAnalysis function from ProtParam in BioPython\n",
    "def aa_molecular_weight(aa_seq): #define function for computing the molecular weight of an amino acid sequence\n",
    "    analysed_aa = ProteinAnalysis(aa_seq) #uses the ProteinAnalysis function to calculate the molecular weight of the sequence\n",
    "    return (analysed_aa.molecular_weight()) #returns the molecular weight of the sequence"
   ]
  },
  {
   "cell_type": "markdown",
   "metadata": {},
   "source": [
    "Did it work?"
   ]
  },
  {
   "cell_type": "code",
   "execution_count": 43,
   "metadata": {},
   "outputs": [
    {
     "data": {
      "text/plain": [
       "855.7956"
      ]
     },
     "execution_count": 43,
     "metadata": {},
     "output_type": "execute_result"
    }
   ],
   "source": [
    "aa_sequence_example = \"TURTLES\" #new example sequence, each letter is an amino acid\n",
    "aa_molecular_weight(aa_sequence_example) #function 4 with example sequence"
   ]
  },
  {
   "cell_type": "markdown",
   "metadata": {},
   "source": [
    "# Function 5: Write a function that calculates the GC content"
   ]
  },
  {
   "cell_type": "code",
   "execution_count": 55,
   "metadata": {},
   "outputs": [],
   "source": [
    "#I found this function on a website with documentation about the biopython package https://biopython.org/docs/1.75/api/Bio.SeqUtils.html\n",
    "def compute_gc_content(nucleotides):\n",
    "    gc_content = GC(nucleotides) #test using the example DNA sequence I made up earlier\n",
    "#this gives the GC content in a percentage of the total DNA sequence\n",
    "    return(gc_content)"
   ]
  },
  {
   "cell_type": "code",
   "execution_count": 61,
   "metadata": {},
   "outputs": [],
   "source": [
    "cytb_seqs = get_sequences_from_file(\"bears_cytb.fasta\") \n",
    "\n",
    "bears_df = pd.read_csv(\"bears_mass.csv\") #body mass data for each bear species\n",
    "species_list = list(bears_df.species)"
   ]
  },
  {
   "cell_type": "markdown",
   "metadata": {},
   "source": [
    "# Main"
   ]
  },
  {
   "cell_type": "code",
   "execution_count": 48,
   "metadata": {},
   "outputs": [],
   "source": [
    "cytb_seqs = get_sequences_from_file(\"bears_cytb.fasta\") #gets the sequences from the fasta file\n",
    "\n",
    "bears_df = pd.read_csv(\"bears_mass.csv\") #reads the body mass data for each bear species into a data frame\n",
    "species_list = list(bears_df.species)"
   ]
  },
  {
   "cell_type": "markdown",
   "metadata": {},
   "source": [
    "# Function 6: Add two new columns with the molecular weight data and the GC content data"
   ]
  },
  {
   "cell_type": "code",
   "execution_count": 89,
   "metadata": {},
   "outputs": [
    {
     "name": "stdout",
     "output_type": "stream",
     "text": [
      "                  species     mass molecular_weight GC_content\n",
      "0          Ursus spelaeus  550.800              NaN        NaN\n",
      "1            Ursus arctos  203.500              NaN        NaN\n",
      "2        Ursus thibetanus   99.714              NaN        NaN\n",
      "3        Melursus ursinus  100.030              NaN        NaN\n",
      "4        Ursus americanus  110.560              NaN        NaN\n",
      "5     Helarctos malayanus   47.020              NaN        NaN\n",
      "6  Ailuropoda melanoleuca  118.200              NaN        NaN\n",
      "7      Tremarctos ornatus  140.700              NaN        NaN\n",
      "8         Ursus maritimus  425.100              NaN        NaN\n",
      "                  species     mass molecular_weight GC_content\n",
      "0          Ursus spelaeus  550.800              NaN        NaN\n",
      "1            Ursus arctos  203.500              NaN        NaN\n",
      "2        Ursus thibetanus   99.714              NaN        NaN\n",
      "3        Melursus ursinus  100.030              NaN        NaN\n",
      "4        Ursus americanus  110.560              NaN        NaN\n",
      "5     Helarctos malayanus   47.020              NaN        NaN\n",
      "6  Ailuropoda melanoleuca  118.200              NaN        NaN\n",
      "7      Tremarctos ornatus  140.700              NaN        NaN\n",
      "8         Ursus maritimus  425.100              NaN        NaN\n"
     ]
    }
   ],
   "source": [
    "print(bears_df) #shows what the unaltered data frame looks like with a column for species name and a column for mass values\n",
    "bears_df['molecular_weight'] = 'NaN' #creates a new column with the header \"molecular_weight\"\n",
    "bears_df['GC_content'] = 'NaN' #creates a new column with the header \"GC_content\"\n",
    "print(bears_df) #prints the data frame with the two new columns to the right of the original data\n",
    "#all values are set to 'NaN' indicating that they are empty cells"
   ]
  },
  {
   "cell_type": "markdown",
   "metadata": {},
   "source": [
    "# Function 7: Write a for loop that translates each sequence and also gets molecular weight and computes the GC content"
   ]
  },
  {
   "cell_type": "code",
   "execution_count": 75,
   "metadata": {},
   "outputs": [
    {
     "name": "stdout",
     "output_type": "stream",
     "text": [
      "                  species     mass  molecular_weight  GC_content\n",
      "0          Ursus spelaeus  550.800        42458.7992   43.771930\n",
      "1            Ursus arctos  203.500        42414.7435   43.771930\n",
      "2        Ursus thibetanus   99.714        42306.6735   45.614035\n",
      "3        Melursus ursinus  100.030        42551.9900   45.175439\n",
      "4        Ursus americanus  110.560        42427.7439   43.947368\n",
      "5     Helarctos malayanus   47.020        42560.8910   44.298246\n",
      "6  Ailuropoda melanoleuca  118.200        42702.1845   40.789474\n",
      "7      Tremarctos ornatus  140.700        42384.8266   44.385965\n",
      "8         Ursus maritimus  425.100        42454.7873   44.298246\n"
     ]
    }
   ],
   "source": [
    "row = 0\n",
    "for key, value in cytb_seqs.items():\n",
    "    aa_seq = translate_function_alternative(value)\n",
    "    computed_molecular_weight = aa_molecular_weight(aa_seq)\n",
    "    bears_df.loc[row, \"molecular_weight\"] = computed_molecular_weight\n",
    "    computed_gc_content = GC(value)\n",
    "    bears_df.loc[row, \"GC_content\"] = computed_gc_content\n",
    "    row = row + 1\n",
    "print(bears_df)"
   ]
  },
  {
   "cell_type": "markdown",
   "metadata": {},
   "source": [
    "# Function 8: Plot a bar chart of the species weights with species on the x axis and mass on the y axis"
   ]
  },
  {
   "cell_type": "code",
   "execution_count": 68,
   "metadata": {},
   "outputs": [
    {
     "data": {
      "text/plain": [
       "<AxesSubplot:title={'center':'Mass of 8 different ursid species'}, xlabel='species'>"
      ]
     },
     "execution_count": 68,
     "metadata": {},
     "output_type": "execute_result"
    },
    {
     "data": {
      "image/png": "[encoded data removed]",
      "text/plain": [
       "<Figure size 432x288 with 1 Axes>"
      ]
     },
     "metadata": {
      "needs_background": "light"
     },
     "output_type": "display_data"
    }
   ],
   "source": [
    "bears_df.plot(kind='bar', x='species', y='mass', color='blue', title='Mass of 8 different ursid species')\n",
    "## Plot a bar-chart of the mass with the x-axes labeled with species names.\n",
    "## *Q1* What is the largest bear species? \n",
    "## *Q2* What else is interesting about this species?"
   ]
  },
  {
   "cell_type": "markdown",
   "metadata": {},
   "source": [
    "# Function 9: Plot the GC content (x axis) vs. molecular weight (y axis)"
   ]
  },
  {
   "cell_type": "code",
   "execution_count": 77,
   "metadata": {},
   "outputs": [
    {
     "data": {
      "text/plain": [
       "<AxesSubplot:xlabel='GC_content', ylabel='molecular_weight'>"
      ]
     },
     "execution_count": 77,
     "metadata": {},
     "output_type": "execute_result"
    },
    {
     "data": {
      "image/png": "[encoded data removed]",
      "text/plain": [
       "<Figure size 432x288 with 1 Axes>"
      ]
     },
     "metadata": {
      "needs_background": "light"
     },
     "output_type": "display_data"
    }
   ],
   "source": [
    "bears_df.plot(x = 'GC_content', y = 'molecular_weight', kind ='scatter')\n",
    "## Plot a visualization of the molecular weight (y-axis) as a function of GC-content (x-axis)."
   ]
  },
  {
   "cell_type": "markdown",
   "metadata": {},
   "source": [
    "# Function 10: Save the new data frame to a file called \"bears_mass_cytb.csv\""
   ]
  },
  {
   "cell_type": "code",
   "execution_count": null,
   "metadata": {},
   "outputs": [],
   "source": [
    "bears_df.to_bears_mass_cytb.csv"
   ]
  },
  {
   "cell_type": "code",
   "execution_count": null,
   "metadata": {},
   "outputs": [],
   "source": []
  }
 ],
 "metadata": {
  "kernelspec": {
   "display_name": "Python 3",
   "language": "python",
   "name": "python3"
  },
  "language_info": {
   "codemirror_mode": {
    "name": "ipython",
    "version": 3
   },
   "file_extension": ".py",
   "mimetype": "text/x-python",
   "name": "python",
   "nbconvert_exporter": "python",
   "pygments_lexer": "ipython3",
   "version": "3.8.5"
  }
 },
 "nbformat": 4,
 "nbformat_minor": 4
}
